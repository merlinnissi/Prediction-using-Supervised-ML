# The Sparks Foundation - GRIP

## Name - Merlin Nissi Babu

## Task 1: Prediction using supervised Machine Learning

## Predict the percentage of an student based on the no. of study hours.
In this task we have to find the students scores based on their study hours. This is simple regression problem type because it has only two variables. This problem can be solved by using regression libraries or we can make regression algorithm


### Importing required libraries

# Import required packages and libraries
import pandas as pd
import numpy as np
import seaborn as sns

### Load the Dataset

df= pd.read_csv(r'C:\Users\merli\Desktop\student_scores - student_scores.csv')

#Displaying the dataset
df.head()

### Data Description

print('The size of Dataframe is: ', df.shape)

df.describe()

# To find total_missing_values in different columns of data and their percentage
def missing_data(data):

    total = data.isnull().sum().sort_values(ascending = False)
    percent = (data.isnull().sum()/data.isnull().count()*100).sort_values(ascending = False)
    return pd.concat([total, percent], axis=1, keys=['Total', 'Percent'])

missing_data(df)

As from above dataframe, my observation on missing data are:

    There is no missing values in our dataset.
    Therefore there is no need of data cleaning.

df.info()

### Plotting

Let's plot our data points on 2-D graph to eyeball our dataset and see if we can manually find any relationship between the data. We can create the plot with the following script:

#plotting Dataframe
import matplotlib.pyplot as plt
df.plot(x='Hours', y='Scores', kind='scatter')
plt.title=('Hours vs Percentage')
plt.xlabel('Hours studied')
plt.ylabel('Percentage acquired')

From the graph above, we can clearly see that there is a positive linear relation between the number of hours studied and percentage of score.

df.corr()

# Heatmap for correlation between the variables
sns.heatmap(data= df.corr(), annot= True, linecolor='black')

### Preparing the data
The next step is to divide the data into "attributes" (inputs) and "labels" (outputs).

#splitting the dataset into input attributes and output labels
X = df.iloc[:,:-1].values
y = df.iloc[:, 1].values

Now that we have our attributes and labels, the next step is to split this data into training and test sets. We'll do this by using Scikit-Learn's built-in train_test_split() method:

from sklearn.model_selection import train_test_split

X_train, X_test, y_train, y_test = train_test_split(X, y, test_size=0.2)

print('X_train shape: ', X_train.shape)
print('X_test shape: ', X_test.shape)
print('y_train shape: ', y_train.shape)
print('y_test shape: ', y_test.shape)

### Training the Algorithm
We have split our data into training and testing sets, and now is finally the time to train our algorithm.

from sklearn.linear_model import LinearRegression
regn = LinearRegression()
regn.fit(X_train,y_train)

print('Training Completed')

line = regn.coef_* X+regn.intercept_

plt.scatter(X,y, color = 'b')
plt.plot(X, line, color = 'r')

### Making Predictions
Now that we have trained our algorithm, it's time to make some predictions.

print(X_test) # Testing data - In Hours

y_pred = regn.predict(X_test)
print(y_pred)

df = pd.DataFrame({'Actual': y_test, 'Predicted': y_pred})  
df 

### Evaluating the model
The final step is to evaluate the performance of algorithm. This step is particularly important to compare how well different algorithms perform on a particular dataset. For simplicity here, we have chosen the mean square error. There are many such metrics.

from sklearn import metrics
from sklearn.metrics import explained_variance_score
mse = metrics.mean_squared_error(y_test,y_pred)
rmse = np.sqrt(metrics.mean_squared_error(y_test,y_pred))
mae = metrics.mean_absolute_error(y_test, y_pred)
R2 = metrics.r2_score(y_test,y_pred)

print("Mean Squared Error      = ",mse)
print("Root Mean Squared Error = ",rmse)
print("Mean Absolute Error     = ",mae)
print("R squared value         = ",R2)
print('\nExplaned Variance Score: ', explained_variance_score(y_true= y_test, y_pred= y_pred))

#### Model Accuracy is 95.87%

### Predicting Score if a student studies for 9.25 hrs/day

# Testing with some new data
hours = float(input("Enter the Study Hours : "))
test = np.array([hours])
test = test.reshape(-1, 1)
own_pred = regn.predict(test)
print("No of Hours = {}".format(hours))
print("Predicted Score = {}".format(own_pred[0]))

# THANK YOU !!!
